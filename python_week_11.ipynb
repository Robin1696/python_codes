{
  "nbformat": 4,
  "nbformat_minor": 0,
  "metadata": {
    "colab": {
      "name": "python.week.11.ipynb",
      "provenance": []
    },
    "kernelspec": {
      "name": "python3",
      "display_name": "Python 3"
    },
    "language_info": {
      "name": "python"
    }
  },
  "cells": [
    {
      "cell_type": "code",
      "metadata": {
        "colab": {
          "base_uri": "https://localhost:8080/"
        },
        "id": "6QwqEXpTA5PL",
        "outputId": "873263b7-dfd3-4126-b731-eb20159b6b07"
      },
      "source": [
        "import openpyxl \n",
        "\n",
        " \n",
        "from google.colab import drive\n",
        "drive.mount('/content/drive/',force_remount=True)\n",
        "wb=openpyxl.load_workbook('/content/drive/My Drive/my data files/realestatedata.xlsx')\n",
        "print(type(wb))"
      ],
      "execution_count": 4,
      "outputs": [
        {
          "output_type": "stream",
          "text": [
            "Mounted at /content/drive/\n",
            "<class 'openpyxl.workbook.workbook.Workbook'>\n"
          ],
          "name": "stdout"
        }
      ]
    },
    {
      "cell_type": "code",
      "metadata": {
        "colab": {
          "base_uri": "https://localhost:8080/"
        },
        "id": "21IM3pa2-3HD",
        "outputId": "aa977c53-1e34-4320-93b6-390de28e8b9a"
      },
      "source": [
        "sheets = wb.sheetnames\n",
        "print(\"List of sheets\")"
      ],
      "execution_count": 5,
      "outputs": [
        {
          "output_type": "stream",
          "text": [
            "List of sheets\n"
          ],
          "name": "stdout"
        }
      ]
    },
    {
      "cell_type": "code",
      "metadata": {
        "colab": {
          "base_uri": "https://localhost:8080/"
        },
        "id": "OHpy_T0g_EKV",
        "outputId": "12c15da1-8970-4a9c-c7d2-98f23ecb6f1b"
      },
      "source": [
        "for x in sheets:\n",
        "  print(x)\n",
        "  sheets_name = x\n"
      ],
      "execution_count": 6,
      "outputs": [
        {
          "output_type": "stream",
          "text": [
            "Sheet2\n"
          ],
          "name": "stdout"
        }
      ]
    },
    {
      "cell_type": "code",
      "metadata": {
        "colab": {
          "base_uri": "https://localhost:8080/"
        },
        "id": "l4_3rZdp_OER",
        "outputId": "046263ba-c2a9-4066-dba3-22507a351e3d"
      },
      "source": [
        "sheet = wb[sheets_name]\n",
        "print(type(sheet))"
      ],
      "execution_count": 10,
      "outputs": [
        {
          "output_type": "stream",
          "text": [
            "<class 'openpyxl.worksheet.worksheet.Worksheet'>\n"
          ],
          "name": "stdout"
        }
      ]
    },
    {
      "cell_type": "code",
      "metadata": {
        "colab": {
          "base_uri": "https://localhost:8080/"
        },
        "id": "S1qHyFen_vPB",
        "outputId": "e0209bb3-812b-41f6-ffd9-42475c749c8a"
      },
      "source": [
        "print(sheet.title)"
      ],
      "execution_count": 11,
      "outputs": [
        {
          "output_type": "stream",
          "text": [
            "Sheet2\n"
          ],
          "name": "stdout"
        }
      ]
    },
    {
      "cell_type": "code",
      "metadata": {
        "colab": {
          "base_uri": "https://localhost:8080/"
        },
        "id": "JzmVzomr_1YU",
        "outputId": "3e591e82-2999-464f-86e8-09ac7290f046"
      },
      "source": [
        "sheets = wb.sheetnames\n",
        "print(\"listing of sheets\")"
      ],
      "execution_count": 12,
      "outputs": [
        {
          "output_type": "stream",
          "text": [
            "listing of sheets\n"
          ],
          "name": "stdout"
        }
      ]
    },
    {
      "cell_type": "code",
      "metadata": {
        "colab": {
          "base_uri": "https://localhost:8080/"
        },
        "id": "mRHUIyEdAAdk",
        "outputId": "8c149500-d023-488f-984e-034f476abe29"
      },
      "source": [
        "for i in sheets:\n",
        "  print(i)\n",
        "  sheet = wb[sheets_name]\n",
        "\n",
        "print(type(sheet))\n",
        "\n",
        "print(sheet.title)"
      ],
      "execution_count": 13,
      "outputs": [
        {
          "output_type": "stream",
          "text": [
            "Sheet2\n",
            "<class 'openpyxl.worksheet.worksheet.Worksheet'>\n",
            "Sheet2\n"
          ],
          "name": "stdout"
        }
      ]
    }
  ]
}